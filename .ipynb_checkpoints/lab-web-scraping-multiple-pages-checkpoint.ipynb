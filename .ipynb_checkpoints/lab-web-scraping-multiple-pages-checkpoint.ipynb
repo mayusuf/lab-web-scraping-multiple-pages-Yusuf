{
 "cells": [
  {
   "cell_type": "markdown",
   "id": "0284af88",
   "metadata": {},
   "source": [
    "## Part 2\n",
    "As you've seen, scraping the internet is a skill that can get you all sorts of information. Here are some little challenges that you can try to gain more experience in the field. Open a new Jupyter notebook and scrape at least 3 of these sites."
   ]
  },
  {
   "cell_type": "markdown",
   "id": "201d8e49",
   "metadata": {},
   "source": [
    "## Part 2 | 1\n",
    "Display the top 10 languages by number of native speakers stored in a pandas dataframe: url = 'https://en.wikipedia.org/wiki/List_of_languages_by_number_of_native_speakers'"
   ]
  },
  {
   "cell_type": "code",
   "execution_count": 123,
   "id": "6326e05e",
   "metadata": {},
   "outputs": [],
   "source": [
    "from bs4 import BeautifulSoup\n",
    "import requests"
   ]
  },
  {
   "cell_type": "code",
   "execution_count": 125,
   "id": "c6050290",
   "metadata": {},
   "outputs": [],
   "source": [
    "url = \"https://en.wikipedia.org/wiki/List_of_languages_by_number_of_native_speakers\"\n",
    "response = requests.get(url)\n",
    "soup = BeautifulSoup(response.text, 'html.parser')"
   ]
  },
  {
   "cell_type": "code",
   "execution_count": 126,
   "id": "759c1691",
   "metadata": {},
   "outputs": [
    {
     "data": {
      "text/plain": [
       "200"
      ]
     },
     "execution_count": 126,
     "metadata": {},
     "output_type": "execute_result"
    }
   ],
   "source": [
    "response = requests.get(url)\n",
    "response.status_code # 200 status code means OK!"
   ]
  },
  {
   "cell_type": "code",
   "execution_count": 127,
   "id": "f23ff6cf",
   "metadata": {},
   "outputs": [],
   "source": [
    "soup = BeautifulSoup(response.content, \"html.parser\")"
   ]
  },
  {
   "cell_type": "code",
   "execution_count": 128,
   "id": "369edf5d",
   "metadata": {},
   "outputs": [],
   "source": [
    "# soup"
   ]
  },
  {
   "cell_type": "code",
   "execution_count": 130,
   "id": "043ca954",
   "metadata": {},
   "outputs": [
    {
     "data": {
      "text/html": [
       "<div>\n",
       "<style scoped>\n",
       "    .dataframe tbody tr th:only-of-type {\n",
       "        vertical-align: middle;\n",
       "    }\n",
       "\n",
       "    .dataframe tbody tr th {\n",
       "        vertical-align: top;\n",
       "    }\n",
       "\n",
       "    .dataframe thead th {\n",
       "        text-align: right;\n",
       "    }\n",
       "</style>\n",
       "<table border=\"1\" class=\"dataframe\">\n",
       "  <thead>\n",
       "    <tr style=\"text-align: right;\">\n",
       "      <th></th>\n",
       "      <th>Language</th>\n",
       "      <th>Speakers</th>\n",
       "      <th>Language Family</th>\n",
       "      <th>Branch</th>\n",
       "    </tr>\n",
       "  </thead>\n",
       "  <tbody>\n",
       "    <tr>\n",
       "      <th>0</th>\n",
       "      <td>Mandarin Chinese</td>\n",
       "      <td>939.0</td>\n",
       "      <td>Sino-Tibetan</td>\n",
       "      <td>Sinitic</td>\n",
       "    </tr>\n",
       "    <tr>\n",
       "      <th>1</th>\n",
       "      <td>Spanish</td>\n",
       "      <td>485.0</td>\n",
       "      <td>Indo-European</td>\n",
       "      <td>Romance</td>\n",
       "    </tr>\n",
       "    <tr>\n",
       "      <th>2</th>\n",
       "      <td>English</td>\n",
       "      <td>380.0</td>\n",
       "      <td>Indo-European</td>\n",
       "      <td>Germanic</td>\n",
       "    </tr>\n",
       "    <tr>\n",
       "      <th>3</th>\n",
       "      <td>Hindi</td>\n",
       "      <td>345.0</td>\n",
       "      <td>Indo-European</td>\n",
       "      <td>Indo-Aryan</td>\n",
       "    </tr>\n",
       "    <tr>\n",
       "      <th>4</th>\n",
       "      <td>Portuguese</td>\n",
       "      <td>236.0</td>\n",
       "      <td>Indo-European</td>\n",
       "      <td>Romance</td>\n",
       "    </tr>\n",
       "    <tr>\n",
       "      <th>5</th>\n",
       "      <td>Bengali</td>\n",
       "      <td>234.0</td>\n",
       "      <td>Indo-European</td>\n",
       "      <td>Indo-Aryan</td>\n",
       "    </tr>\n",
       "    <tr>\n",
       "      <th>6</th>\n",
       "      <td>Russian</td>\n",
       "      <td>147.0</td>\n",
       "      <td>Indo-European</td>\n",
       "      <td>Balto-Slavic</td>\n",
       "    </tr>\n",
       "    <tr>\n",
       "      <th>7</th>\n",
       "      <td>Japanese</td>\n",
       "      <td>123.0</td>\n",
       "      <td>Japonic</td>\n",
       "      <td>Japanese</td>\n",
       "    </tr>\n",
       "    <tr>\n",
       "      <th>8</th>\n",
       "      <td>Yue Chinese</td>\n",
       "      <td>86.1</td>\n",
       "      <td>Sino-Tibetan</td>\n",
       "      <td>Sinitic</td>\n",
       "    </tr>\n",
       "    <tr>\n",
       "      <th>9</th>\n",
       "      <td>Vietnamese</td>\n",
       "      <td>85.0</td>\n",
       "      <td>Austroasiatic</td>\n",
       "      <td>Vietic</td>\n",
       "    </tr>\n",
       "  </tbody>\n",
       "</table>\n",
       "</div>"
      ],
      "text/plain": [
       "           Language  Speakers Language Family        Branch\n",
       "0  Mandarin Chinese     939.0    Sino-Tibetan       Sinitic\n",
       "1           Spanish     485.0   Indo-European       Romance\n",
       "2           English     380.0   Indo-European      Germanic\n",
       "3             Hindi     345.0   Indo-European    Indo-Aryan\n",
       "4        Portuguese     236.0   Indo-European       Romance\n",
       "5           Bengali     234.0   Indo-European    Indo-Aryan\n",
       "6           Russian     147.0   Indo-European  Balto-Slavic\n",
       "7          Japanese     123.0         Japonic      Japanese\n",
       "8       Yue Chinese      86.1    Sino-Tibetan       Sinitic\n",
       "9        Vietnamese      85.0   Austroasiatic        Vietic"
      ]
     },
     "execution_count": 130,
     "metadata": {},
     "output_type": "execute_result"
    }
   ],
   "source": [
    "import pandas as pd\n",
    "\n",
    "url = \"https://en.wikipedia.org/wiki/List_of_languages_by_number_of_native_speakers\"\n",
    "response = requests.get(url)\n",
    "soup = BeautifulSoup(response.text, 'html.parser')\n",
    "\n",
    "table_rows = soup.select('#mw-content-text table.wikitable tbody tr')\n",
    "data = []\n",
    "for row in table_rows[:11]:  # Select only the first 10 rows\n",
    "    language_name = row.select_one('td:nth-child(1) a')\n",
    "    speakers = row.select_one('td:nth-child(2)')\n",
    "    language_family = row.select_one('td:nth-child(3) a')\n",
    "    branch = row.select_one('td:nth-child(4) a')\n",
    "    if language_name and speakers and speakers.text.strip().replace('.', '').isdigit() and language_family and branch:\n",
    "        data.append({\n",
    "            \"Language\": language_name.text.strip(),\n",
    "            \"Speakers\": float(speakers.text.strip().replace(',', '')),\n",
    "            \"Language Family\": language_family.text.strip(),\n",
    "            \"Branch\": branch.text.strip()\n",
    "        })\n",
    "\n",
    "df = pd.DataFrame(data)\n",
    "df"
   ]
  },
  {
   "cell_type": "code",
   "execution_count": null,
   "id": "1831c667",
   "metadata": {},
   "outputs": [],
   "source": []
  },
  {
   "cell_type": "markdown",
   "id": "d1be6035",
   "metadata": {},
   "source": [
    "## Part 2 | 2\n",
    "Find the number of titles that have changed in the United States Code since its last release point: url = 'http://uscode.house.gov/download/download.shtml'"
   ]
  },
  {
   "cell_type": "code",
   "execution_count": 117,
   "id": "a7d08362",
   "metadata": {},
   "outputs": [],
   "source": [
    "url = \"http://uscode.house.gov/download/download.shtml\"\n",
    "response = requests.get(url)\n",
    "soup = BeautifulSoup(response.text, 'html.parser')"
   ]
  },
  {
   "cell_type": "code",
   "execution_count": 118,
   "id": "01a3056d",
   "metadata": {},
   "outputs": [
    {
     "data": {
      "text/plain": [
       "200"
      ]
     },
     "execution_count": 118,
     "metadata": {},
     "output_type": "execute_result"
    }
   ],
   "source": [
    "response = requests.get(url)\n",
    "response.status_code # 200 status code means OK!"
   ]
  },
  {
   "cell_type": "code",
   "execution_count": 119,
   "id": "3198177c",
   "metadata": {},
   "outputs": [],
   "source": [
    "soup = BeautifulSoup(response.content, \"html.parser\")"
   ]
  },
  {
   "cell_type": "code",
   "execution_count": 96,
   "id": "f6a203ec",
   "metadata": {},
   "outputs": [],
   "source": [
    "# soup"
   ]
  },
  {
   "cell_type": "code",
   "execution_count": 122,
   "id": "d019335e",
   "metadata": {},
   "outputs": [
    {
     "name": "stdout",
     "output_type": "stream",
     "text": [
      "All titles in the format selected compressed into a zip archive.\n",
      "\n",
      "Title 1 - General Provisions٭\n",
      "Title 2 - The Congress\n",
      "Title 3 - The President٭\n",
      "Title 4 - Flag and Seal, Seat of Government, and the States٭\n",
      "Title 5 - Government Organization and Employees٭\n",
      "Title 6 - Domestic Security\n",
      "Title 7 - Agriculture\n",
      "Title 8 - Aliens and Nationality\n",
      "Title 9 - Arbitration٭\n",
      "Title 10 - Armed Forces٭\n",
      "Title 11 - Bankruptcy٭\n",
      "Title 12 - Banks and Banking\n",
      "Title 13 - Census٭\n",
      "Title 14 - Coast Guard٭\n",
      "Title 15 - Commerce and Trade\n",
      "Title 16 - Conservation\n",
      "Title 17 - Copyrights٭\n",
      "Title 18 - Crimes and Criminal Procedure٭\n",
      "Title 19 - Customs Duties\n",
      "Title 20 - Education\n",
      "Title 21 - Food and Drugs\n",
      "Title 22 - Foreign Relations and Intercourse\n",
      "Title 23 - Highways٭\n",
      "Title 24 - Hospitals and Asylums\n",
      "Title 25 - Indians\n",
      "Title 26 - Internal Revenue Code\n",
      "Title 27 - Intoxicating Liquors\n",
      "Title 28 - Judiciary and Judicial Procedure٭\n",
      "Title 29 - Labor\n",
      "Title 30 - Mineral Lands and Mining\n",
      "Title 31 - Money and Finance٭\n",
      "Title 32 - National Guard٭\n",
      "Title 33 - Navigation and Navigable Waters\n",
      "Title 34 - Crime Control and Law Enforcement\n",
      "Title 35 - Patents٭\n",
      "Title 36 - Patriotic and National Observances, Ceremonies, and Organizations٭\n",
      "Title 37 - Pay and Allowances of the Uniformed Services٭\n",
      "Title 39 - Postal Service٭\n",
      "Title 40 - Public Buildings, Property, and Works٭\n",
      "Title 41 - Public Contracts٭\n",
      "Title 42 - The Public Health and Welfare\n",
      "Title 43 - Public Lands\n",
      "Title 44 - Public Printing and Documents٭\n",
      "Title 45 - Railroads\n",
      "Title 46 - Shipping٭\n",
      "Title 47 - Telecommunications\n",
      "Title 48 - Territories and Insular Possessions\n",
      "Title 49 - Transportation٭\n",
      "Title 50 - War and National Defense\n",
      "Title 51 - National and Commercial Space Programs٭\n",
      "Title 52 - Voting and Elections\n",
      "Title 53 [Reserved]\n",
      "Title 54 - National Park Service and Related Programs٭\n"
     ]
    }
   ],
   "source": [
    "title_elements = soup.find_all(\"div\", {'class':'usctitle'})\n",
    "for title_element in title_elements:\n",
    "    print(title_element.get_text(strip=True))"
   ]
  },
  {
   "cell_type": "markdown",
   "id": "f5d7817c",
   "metadata": {},
   "source": [
    "## Part 2 | 3\n",
    "A list with the different kind of datasets available in data.gov.uk: url = 'https://data.gov.uk/'"
   ]
  },
  {
   "cell_type": "code",
   "execution_count": 132,
   "id": "4bc07873",
   "metadata": {},
   "outputs": [],
   "source": [
    "url = \"https://www.data.gov.uk/\"\n",
    "response = requests.get(url)\n",
    "soup = BeautifulSoup(response.text, 'html.parser')"
   ]
  },
  {
   "cell_type": "code",
   "execution_count": 133,
   "id": "506dc308",
   "metadata": {},
   "outputs": [
    {
     "data": {
      "text/plain": [
       "200"
      ]
     },
     "execution_count": 133,
     "metadata": {},
     "output_type": "execute_result"
    }
   ],
   "source": [
    "response = requests.get(url)\n",
    "response.status_code # 200 status code means OK!"
   ]
  },
  {
   "cell_type": "code",
   "execution_count": 134,
   "id": "6dda9f84",
   "metadata": {},
   "outputs": [],
   "source": [
    "soup = BeautifulSoup(response.content, \"html.parser\")"
   ]
  },
  {
   "cell_type": "code",
   "execution_count": 136,
   "id": "35a6777b",
   "metadata": {},
   "outputs": [
    {
     "name": "stdout",
     "output_type": "stream",
     "text": [
      "Business and economy\n",
      "Crime and justice\n",
      "Defence\n",
      "Education\n",
      "Environment\n",
      "Government\n",
      "Government spending\n",
      "Health\n",
      "Mapping\n",
      "Society\n",
      "Towns and cities\n",
      "Transport\n",
      "Digital service performance\n",
      "Government reference data\n"
     ]
    }
   ],
   "source": [
    "title_elements = soup.find_all(\"h3\", {'class':'govuk-heading-s dgu-topics__heading'})\n",
    "for title_element in title_elements:\n",
    "    print(title_element.get_text(strip=True))"
   ]
  }
 ],
 "metadata": {
  "kernelspec": {
   "display_name": "Python 3 (ipykernel)",
   "language": "python",
   "name": "python3"
  },
  "language_info": {
   "codemirror_mode": {
    "name": "ipython",
    "version": 3
   },
   "file_extension": ".py",
   "mimetype": "text/x-python",
   "name": "python",
   "nbconvert_exporter": "python",
   "pygments_lexer": "ipython3",
   "version": "3.11.5"
  }
 },
 "nbformat": 4,
 "nbformat_minor": 5
}
